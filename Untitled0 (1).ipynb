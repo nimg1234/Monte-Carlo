{
  "nbformat": 4,
  "nbformat_minor": 0,
  "metadata": {
    "colab": {
      "provenance": []
    },
    "kernelspec": {
      "name": "python3",
      "display_name": "Python 3"
    },
    "language_info": {
      "name": "python"
    }
  },
  "cells": [
    {
      "cell_type": "code",
      "execution_count": null,
      "metadata": {
        "id": "7bcQwdE3Fg63"
      },
      "outputs": [],
      "source": [
        "import pandas as pd\n",
        "import matplotlib.pyplot as plt\n",
        "import time\n",
        "import numpy as np\n",
        "import random\n",
        "import numpy.random as random\n",
        "\n",
        "\n",
        "def plot_paths(x, starting_price):\n",
        "  timesteps = len(x[0])\n",
        "  plt.figure(figsize=(40,20))\n",
        "  plt.autoscale(enable=True, axis='x', tight=True)\n",
        "  for path in x:\n",
        "      plt.plot(range(timesteps),path)\n",
        "  plt.plot(range(timesteps),[starting_price]*(timesteps),'b')\n",
        "  plt.title('Paths by Monte Carlo Simulations')\n",
        "  plt.xlabel('Time')\n",
        "  plt.ylabel('Stock Price')\n",
        "  plt.show()\n",
        "\n",
        "def plot_final_dist(x):\n",
        "\n",
        "  fig, ax = plt.subplots(figsize =(40, 20))\n",
        "  ax.hist(x, bins = 100)\n",
        "  plt.title('Distribution of final Stock Price')\n",
        "  plt.xlabel('Price')\n",
        "  plt.ylabel('No. of occurences')\n",
        "  plt.show()\n",
        "\n",
        "timesteps = 30\n",
        "starting_price = 600\n",
        "volatility = 0.02   #2%=0.02\n",
        "max_simulations = 5000\n",
        "paths=[]\n",
        "m=0\n",
        "while m<max_simulations:\n",
        "    c=0\n",
        "    ps=[]\n",
        "    ps.append(starting_price)\n",
        "    price=starting_price*(1+random.normal(0,volatility))\n",
        "    ps.append(price)\n",
        "\n",
        "    for y in range(timesteps):\n",
        "        if c==29:\n",
        "            break\n",
        "        price=ps[c+1]*(1+random.normal(0,volatility))\n",
        "        ps.append(price)\n",
        "        c+=1\n",
        "    paths.append(ps)#appending list in paths list\n",
        "    m=m+1\n",
        "final_values=[]\n",
        "j=0\n",
        "while j<len(paths):\n",
        "    for k in paths:\n",
        "        final_values.append(paths[j][-1])\n",
        "        j+=1\n",
        "\n",
        "plot_paths(paths, starting_price)\n",
        "plot_final_dist(final_values)"
      ]
    }
  ]
}